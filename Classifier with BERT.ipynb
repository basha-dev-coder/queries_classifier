{
 "cells": [
  {
   "cell_type": "code",
   "execution_count": 2,
   "metadata": {},
   "outputs": [],
   "source": [
    "import tensorflow as tf\n",
    "import pandas as pd\n",
    "from datasets import load_dataset"
   ]
  },
  {
   "cell_type": "code",
   "execution_count": 3,
   "metadata": {},
   "outputs": [
    {
     "name": "stderr",
     "output_type": "stream",
     "text": [
      "Using custom data configuration default\n",
      "Reusing dataset banking77 (C:\\Users\\barka\\.cache\\huggingface\\datasets\\banking77\\default\\1.1.0\\aec0289529599d4572d76ab00c8944cb84f88410ad0c9e7da26189d31f62a55b)\n"
     ]
    },
    {
     "data": {
      "application/vnd.jupyter.widget-view+json": {
       "model_id": "4d6a3c66237842b789997bac19b21b55",
       "version_major": 2,
       "version_minor": 0
      },
      "text/plain": [
       "  0%|          | 0/2 [00:00<?, ?it/s]"
      ]
     },
     "metadata": {},
     "output_type": "display_data"
    }
   ],
   "source": [
    "dataset  = load_dataset('banking77')"
   ]
  },
  {
   "cell_type": "code",
   "execution_count": 4,
   "metadata": {},
   "outputs": [],
   "source": [
    "train_df = pd.DataFrame(dataset['train'])\n",
    "test_df = pd.DataFrame( dataset['test'])"
   ]
  },
  {
   "cell_type": "code",
   "execution_count": 138,
   "metadata": {},
   "outputs": [],
   "source": [
    "from sklearn.model_selection import train_test_split\n",
    "\n",
    "X_train,X_valid,y_train,y_valid = train_test_split(train_df['text'],train_df['label'],stratify=train_df['label'],test_size=0.1,random_state=42)"
   ]
  },
  {
   "cell_type": "code",
   "execution_count": 139,
   "metadata": {},
   "outputs": [],
   "source": [
    "AUTOTUNE = tf.data.AUTOTUNE\n",
    "\n",
    "train_ds = tf.data.Dataset.from_tensor_slices((X_train,y_train)).batch(32).cache().prefetch(buffer_size=AUTOTUNE)\n",
    "val_ds = tf.data.Dataset.from_tensor_slices((X_valid,y_valid)).batch(32).cache().prefetch(buffer_size=AUTOTUNE)\n",
    "test_ds = tf.data.Dataset.from_tensor_slices((test_df['text'],test_df['label'])).batch(32).cache().prefetch(buffer_size=AUTOTUNE,)"
   ]
  },
  {
   "cell_type": "code",
   "execution_count": 128,
   "metadata": {},
   "outputs": [
    {
     "data": {
      "text/plain": [
       "(<tf.Tensor: shape=(), dtype=string, numpy=b'I want to auto top-up.'>,\n",
       " <tf.Tensor: shape=(), dtype=int64, numpy=4>)"
      ]
     },
     "execution_count": 128,
     "metadata": {},
     "output_type": "execute_result"
    }
   ],
   "source": [
    "text_batch_1, text_label_1 = next(iter(train_ds)) # pick first batch from dataset\n",
    "text , label = text_batch_1[0],text_label_1[0] # taking first text and label from batch\n",
    "text , label"
   ]
  },
  {
   "cell_type": "code",
   "execution_count": 27,
   "metadata": {},
   "outputs": [],
   "source": [
    "import tensorflow_text as text  # Registers the ops."
   ]
  },
  {
   "cell_type": "code",
   "execution_count": 140,
   "metadata": {},
   "outputs": [],
   "source": [
    "import tensorflow_hub as hub\n",
    "text_input = tf.keras.Input(shape=(),dtype=tf.string,name=\"input_layer\")\n",
    "preprocessor = hub.KerasLayer('https://tfhub.dev/tensorflow/bert_en_uncased_preprocess/3',name=\"preprocessor\")\n",
    "encoder_inputs = preprocessor(text_input)\n",
    "\n",
    "encoder = hub.KerasLayer('https://tfhub.dev/tensorflow/small_bert/bert_en_uncased_L-2_H-128_A-2/2',trainable=True,name='BERT_encoder')\n",
    "outputs = encoder(encoder_inputs)\n",
    "\n",
    "pooled_output = outputs['pooled_output']\n",
    "\n",
    "#create Dense layer for classifier\n",
    "# net = tf.keras.layers.Dropout(0.1)(pooled_output)\n",
    "net = tf.keras.layers.Dense(77,activation='softmax')(pooled_output)\n",
    "\n",
    "\n"
   ]
  },
  {
   "cell_type": "code",
   "execution_count": 141,
   "metadata": {},
   "outputs": [
    {
     "name": "stdout",
     "output_type": "stream",
     "text": [
      "tf.Tensor(\n",
      "[[0.0069955  0.01017531 0.00328298 0.00693798 0.0146527  0.00192905\n",
      "  0.02014177 0.00844488 0.00798074 0.01174778 0.00290744 0.00452346\n",
      "  0.01190173 0.01579096 0.00172999 0.01362926 0.01353552 0.00681905\n",
      "  0.00559797 0.00791632 0.01599933 0.00145123 0.01434955 0.00369733\n",
      "  0.01841928 0.0094341  0.0075563  0.00651377 0.00887302 0.01493756\n",
      "  0.06668961 0.01820266 0.01183929 0.02087621 0.002097   0.00953973\n",
      "  0.00766631 0.00799134 0.0310942  0.04757845 0.00272649 0.01109882\n",
      "  0.00541304 0.02117927 0.00554536 0.01345055 0.03712919 0.00371125\n",
      "  0.09260956 0.00504643 0.01065782 0.00700685 0.00198424 0.00967362\n",
      "  0.00654542 0.01359309 0.01305338 0.00636946 0.01763685 0.01816988\n",
      "  0.00419938 0.00130964 0.0044597  0.01044255 0.00610994 0.00507861\n",
      "  0.00316543 0.06583297 0.00451762 0.00071822 0.00434267 0.00904569\n",
      "  0.0035298  0.00789867 0.04287097 0.01031121 0.01211967]], shape=(1, 77), dtype=float32)\n"
     ]
    }
   ],
   "source": [
    "embedding_model = tf.keras.Model(text_input, net)\n",
    "sentences = tf.constant([\"I am still waiting on my card?\"])\n",
    "print(embedding_model(sentences))"
   ]
  },
  {
   "cell_type": "code",
   "execution_count": 38,
   "metadata": {},
   "outputs": [
    {
     "name": "stdout",
     "output_type": "stream",
     "text": [
      "Model: \"model_1\"\n",
      "__________________________________________________________________________________________________\n",
      " Layer (type)                   Output Shape         Param #     Connected to                     \n",
      "==================================================================================================\n",
      " input_layer (InputLayer)       [(None,)]            0           []                               \n",
      "                                                                                                  \n",
      " preprocessor (KerasLayer)      {'input_type_ids':   0           ['input_layer[0][0]']            \n",
      "                                (None, 128),                                                      \n",
      "                                 'input_word_ids':                                                \n",
      "                                (None, 128),                                                      \n",
      "                                 'input_mask': (Non                                               \n",
      "                                e, 128)}                                                          \n",
      "                                                                                                  \n",
      " BERT_encoder (KerasLayer)      {'default': (None,   4385921     ['preprocessor[0][0]',           \n",
      "                                128),                             'preprocessor[0][1]',           \n",
      "                                 'pooled_output': (               'preprocessor[0][2]']           \n",
      "                                None, 128),                                                       \n",
      "                                 'sequence_output':                                               \n",
      "                                 (None, 128, 128),                                                \n",
      "                                 'encoder_outputs':                                               \n",
      "                                 [(None, 128, 128),                                               \n",
      "                                 (None, 128, 128)]}                                               \n",
      "                                                                                                  \n",
      " dropout (Dropout)              (None, 128)          0           ['BERT_encoder[0][3]']           \n",
      "                                                                                                  \n",
      " dense (Dense)                  (None, 77)           9933        ['dropout[0][0]']                \n",
      "                                                                                                  \n",
      "==================================================================================================\n",
      "Total params: 4,395,854\n",
      "Trainable params: 4,395,853\n",
      "Non-trainable params: 1\n",
      "__________________________________________________________________________________________________\n"
     ]
    }
   ],
   "source": [
    "embedding_model.summary()"
   ]
  },
  {
   "cell_type": "code",
   "execution_count": 43,
   "metadata": {},
   "outputs": [],
   "source": [
    "TOTAL_SIZE = train_df.shape[0]\n",
    "BATCH_SIZE = 32\n",
    "VAL_BATCH  = int((TOTAL_SIZE / BATCH_SIZE) * 0.9) "
   ]
  },
  {
   "cell_type": "code",
   "execution_count": 142,
   "metadata": {},
   "outputs": [
    {
     "data": {
      "text/plain": [
       "250"
      ]
     },
     "execution_count": 142,
     "metadata": {},
     "output_type": "execute_result"
    }
   ],
   "source": [
    "int((TOTAL_SIZE / BATCH_SIZE) * 0.8)"
   ]
  },
  {
   "cell_type": "code",
   "execution_count": 58,
   "metadata": {},
   "outputs": [],
   "source": [
    "train_ds = train_ds.take(VAL_BATCH)\n",
    "val_ds = train_ds.skip(VAL_BATCH)"
   ]
  },
  {
   "cell_type": "code",
   "execution_count": null,
   "metadata": {},
   "outputs": [],
   "source": [
    "epochs = 5\n",
    "# steps_per_epoch = tf.data.experimental.cardinality(train_ds).numpy()\n",
    "# num_train_steps = steps_per_epoch * epochs\n",
    "# num_warmup_steps = int(0.1*num_train_steps)\n",
    "\n",
    "# init_lr = 3e-5\n",
    "# optimizer = tf.keras.optimization.create_optimizer(init_lr=init_lr,\n",
    "#                                           num_train_steps=num_train_steps,\n",
    "#                                           num_warmup_steps=num_warmup_steps,\n",
    "#                                           optimizer_type='adamw')"
   ]
  },
  {
   "cell_type": "code",
   "execution_count": 143,
   "metadata": {},
   "outputs": [],
   "source": [
    "embedding_model.compile(optimizer=tf.keras.optimizers.Adam(learning_rate=1e-5),\n",
    "                         loss=tf.keras.losses.SparseCategoricalCrossentropy(),\n",
    "                         metrics=['accuracy'])\n"
   ]
  },
  {
   "cell_type": "code",
   "execution_count": 144,
   "metadata": {},
   "outputs": [
    {
     "name": "stdout",
     "output_type": "stream",
     "text": [
      "Epoch 1/5\n",
      "282/282 [==============================] - 73s 252ms/step - loss: 4.5300 - accuracy: 0.0163 - val_loss: 4.3697 - val_accuracy: 0.0310\n",
      "Epoch 2/5\n",
      "282/282 [==============================] - 73s 257ms/step - loss: 4.3042 - accuracy: 0.0401 - val_loss: 4.1415 - val_accuracy: 0.0579\n",
      "Epoch 3/5\n",
      "282/282 [==============================] - 73s 260ms/step - loss: 4.1321 - accuracy: 0.0625 - val_loss: 3.9518 - val_accuracy: 0.1049\n",
      "Epoch 4/5\n",
      "282/282 [==============================] - 70s 250ms/step - loss: 3.9526 - accuracy: 0.1019 - val_loss: 3.7399 - val_accuracy: 0.1628\n",
      "Epoch 5/5\n",
      "282/282 [==============================] - 70s 248ms/step - loss: 3.7677 - accuracy: 0.1501 - val_loss: 3.5169 - val_accuracy: 0.2288\n"
     ]
    },
    {
     "data": {
      "text/plain": [
       "<keras.callbacks.History at 0x2005267c310>"
      ]
     },
     "execution_count": 144,
     "metadata": {},
     "output_type": "execute_result"
    }
   ],
   "source": [
    "embedding_model.fit(train_ds,validation_data=val_ds,epochs=5)"
   ]
  },
  {
   "cell_type": "code",
   "execution_count": 145,
   "metadata": {},
   "outputs": [
    {
     "name": "stdout",
     "output_type": "stream",
     "text": [
      "97/97 [==============================] - 6s 67ms/step - loss: 3.5506 - accuracy: 0.2000\n"
     ]
    }
   ],
   "source": [
    "loss, accuracy = embedding_model.evaluate(test_ds)"
   ]
  },
  {
   "cell_type": "code",
   "execution_count": 93,
   "metadata": {},
   "outputs": [
    {
     "name": "stdout",
     "output_type": "stream",
     "text": [
      "97/97 [==============================] - 6s 60ms/step\n"
     ]
    }
   ],
   "source": [
    "preds = embedding_model.predict(test_ds)"
   ]
  },
  {
   "cell_type": "code",
   "execution_count": 104,
   "metadata": {},
   "outputs": [],
   "source": [
    "v = test_ds.take(1)"
   ]
  },
  {
   "cell_type": "code",
   "execution_count": 111,
   "metadata": {},
   "outputs": [
    {
     "name": "stdout",
     "output_type": "stream",
     "text": [
      "tf.Tensor(\n",
      "[b'Can a credit card be used to transfer money?'\n",
      " b'My card activation is failing.' b'How long will my top-up be pending?'\n",
      " b\"Why hasn't my son received the transfer I sent to him earlier?\"\n",
      " b'Will money be added automatically when necessary?'\n",
      " b\"Do you not accept crypto transfers from certain places? Because when I tried to do a top up the money just disappeared. Im not sure what to do or what I'm doing wrong, please help.\"\n",
      " b'The wrong exchange rate applied to my cash withdrawal.'\n",
      " b\"You promised no fees but now I've got one. What the hell!?\"\n",
      " b'Why did I get charged a fee for my transfer?'\n",
      " b'How much is it to send out additional cards?'\n",
      " b'Hey I am standing in front of an ATM here, it only gave me 10 pounds even though I wanted to withdraw 30! Seems like the app has 30 pounds, what do I do??'\n",
      " b'Please give me both Visa and MasterCard, is it possible?'\n",
      " b'Why have I been charged twice?' b'I need my virtual card'\n",
      " b'I was charged too many times for one transaction.'\n",
      " b'What cash stations take this card?'\n",
      " b'Are there any discounts for frequent currency exchanges?'\n",
      " b'I lost my phone, what should I do?'\n",
      " b'Which currencies do you accept for adding money?'\n",
      " b'Why did the top-up fail?'\n",
      " b'what is this charge i didnt do it what can i do'\n",
      " b'How much does it cost to top up by transfer?'\n",
      " b'I need to move money from another bank to this account.'\n",
      " b'Who can have access to top up my account?' b'My phone has been stolen.'\n",
      " b'Please help revert my transaction from this morning.'\n",
      " b'My cheque is slow to cash'\n",
      " b'Please help me with my card. As i have tried to use my card in two different ATMs but repeatedly it was declining by ATM.'\n",
      " b\"There is a 1\\xc2\\xa3 charge that appears as pending on my statement. What is that? I haven't purchased anything for a pound there.\"\n",
      " b'Can i top up by card?'\n",
      " b'I want to top up by using a credit card, which ones do you support?'\n",
      " b'I need to get some Euros for my holiday. Am I able to exchange some of my money?'], shape=(32,), dtype=string) tf.Tensor(\n",
      "[62  0 47 66  4 61 76 15 64 39 75 73 63 40 63  3 31 42 54 59 28 56 65 62\n",
      " 42  8  6 26 34 62 54 33], shape=(32,), dtype=int64)\n"
     ]
    }
   ],
   "source": [
    "for x,y in train_ds.take(1):\n",
    "    print(x,y)\n",
    "    # break"
   ]
  },
  {
   "cell_type": "code",
   "execution_count": 105,
   "metadata": {},
   "outputs": [
    {
     "name": "stdout",
     "output_type": "stream",
     "text": [
      "1/1 [==============================] - 0s 77ms/step\n"
     ]
    },
    {
     "data": {
      "text/plain": [
       "array([[0.06842163, 0.00334039, 0.00698865, ..., 0.00877284, 0.00494816,\n",
       "        0.00503086],\n",
       "       [0.03302078, 0.00379312, 0.0133736 , ..., 0.00748981, 0.02237591,\n",
       "        0.01538504],\n",
       "       [0.05113184, 0.00421031, 0.00963745, ..., 0.00564119, 0.02267505,\n",
       "        0.00645326],\n",
       "       ...,\n",
       "       [0.04194529, 0.00361456, 0.00887997, ..., 0.01052712, 0.0054382 ,\n",
       "        0.00625578],\n",
       "       [0.02375717, 0.00542869, 0.01179141, ..., 0.00801594, 0.02415427,\n",
       "        0.01230364],\n",
       "       [0.01862687, 0.00712863, 0.01008906, ..., 0.00598353, 0.02096801,\n",
       "        0.0128925 ]], dtype=float32)"
      ]
     },
     "execution_count": 105,
     "metadata": {},
     "output_type": "execute_result"
    }
   ],
   "source": [
    "embedding_model.predict(v)"
   ]
  },
  {
   "cell_type": "code",
   "execution_count": 94,
   "metadata": {},
   "outputs": [],
   "source": [
    "preds = tf.math.argmax(preds,1)"
   ]
  },
  {
   "cell_type": "code",
   "execution_count": 110,
   "metadata": {},
   "outputs": [
    {
     "data": {
      "text/plain": [
       "<tf.Tensor: shape=(32,), dtype=int64, numpy=\n",
       "array([ 0, 53, 53, 36, 53,  0, 47,  0, 15, 47, 21, 52, 45, 45, 47, 45, 30,\n",
       "       53, 47, 30, 30,  0, 53, 30, 63, 15, 30, 30, 30, 58, 53, 30],\n",
       "      dtype=int64)>"
      ]
     },
     "execution_count": 110,
     "metadata": {},
     "output_type": "execute_result"
    }
   ],
   "source": [
    "preds[:32]"
   ]
  },
  {
   "cell_type": "code",
   "execution_count": 87,
   "metadata": {},
   "outputs": [
    {
     "name": "stdout",
     "output_type": "stream",
     "text": [
      "tf.Tensor(\n",
      "[b'How do I locate my card?'\n",
      " b'I still have not received my new card, I ordered over a week ago.'\n",
      " b'I ordered a card but it has not arrived. Help please!'\n",
      " b'Is there a way to know when my card will arrive?'\n",
      " b'My card has not arrived yet.' b'When will I get my card?'\n",
      " b'Do you know if there is a tracking number for the new card you sent me?'\n",
      " b'i have not received my card' b'still waiting on that card'\n",
      " b'Is it normal to have to wait over a week for my new card?'\n",
      " b'How do I track my card?' b'How long does a card delivery take?'\n",
      " b\"I still don't have my card after 2 weeks.  What should I do?\"\n",
      " b'still waiting on my new card'\n",
      " b'I am still waiting for my card after 1 week.  Is this ok?'\n",
      " b'I have been waiting longer than expected for my bank card, could you provide information on when it will arrive?'\n",
      " b\"I've been waiting longer than expected for my card.\"\n",
      " b\"Why hasn't my card been delivered?\"\n",
      " b'Where is my new card? I have been waiting a week!'\n",
      " b\"My card still hasn't arrived after 2 weeks. Is it lost?\"\n",
      " b'I did not get my card yet, is it lost?'\n",
      " b'Status of the card I ordered.'\n",
      " b'How long should my new card take to arrive?'\n",
      " b\"I ordered my card 2 weeks ago and it still isn't here? What do I do?\"\n",
      " b'My card has not arrived yet, where is it?'\n",
      " b'What is the tracking number for my card that was mailed?'\n",
      " b\"I think something went wrong with my card delivery as I haven't received it yet.\"\n",
      " b\"I'm still waiting for delivery of my new card, why is it taking so long?\"\n",
      " b\"I ordered a card a week ago, and it's still not here. What do I do?\"\n",
      " b'i want to track the card you sent' b\"My card hasn't arrived yet.\"\n",
      " b\"I was expecting my new card and am wondering why I haven't received it yet?\"], shape=(32,), dtype=string) tf.Tensor(\n",
      "[11 11 11 11 11 11 11 11 11 11 11 11 11 11 11 11 11 11 11 11 11 11 11 11\n",
      " 11 11 11 11 11 11 11 11], shape=(32,), dtype=int64)\n"
     ]
    }
   ],
   "source": [
    "for x,_ in test_ds.take(1):\n",
    "    print(x,_)"
   ]
  }
 ],
 "metadata": {
  "kernelspec": {
   "display_name": "Python 3.10.5 64-bit",
   "language": "python",
   "name": "python3"
  },
  "language_info": {
   "codemirror_mode": {
    "name": "ipython",
    "version": 3
   },
   "file_extension": ".py",
   "mimetype": "text/x-python",
   "name": "python",
   "nbconvert_exporter": "python",
   "pygments_lexer": "ipython3",
   "version": "3.10.5"
  },
  "orig_nbformat": 4,
  "vscode": {
   "interpreter": {
    "hash": "ccc9907020a360c0774b7240d7189d7caac06a5804f44f1a6c385a36278d3a41"
   }
  }
 },
 "nbformat": 4,
 "nbformat_minor": 2
}
